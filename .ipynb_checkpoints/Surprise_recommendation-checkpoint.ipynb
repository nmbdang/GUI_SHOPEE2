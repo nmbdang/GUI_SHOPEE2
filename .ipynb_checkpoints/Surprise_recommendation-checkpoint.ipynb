{
 "cells": [
  {
   "cell_type": "code",
   "execution_count": 3,
   "id": "7dbd3c6f-5b61-4f09-98bd-13b3c45a9542",
   "metadata": {},
   "outputs": [],
   "source": [
    "import pandas as pd\n",
    "from surprise import Dataset, Reader, SVD, KNNBasic, NMF\n",
    "from surprise.model_selection import train_test_split\n",
    "from surprise import accuracy\n",
    "\n",
    "# Tải dữ liệu từ file CSV\n",
    "df = pd.read_csv('Products_ThoiTrangNam_rating_raw.csv', sep='\\t')"
   ]
  },
  {
   "cell_type": "code",
   "execution_count": 4,
   "id": "76fd70df-ef36-490e-a4b1-f2235dd48649",
   "metadata": {},
   "outputs": [
    {
     "data": {
      "text/html": [
       "<div>\n",
       "<style scoped>\n",
       "    .dataframe tbody tr th:only-of-type {\n",
       "        vertical-align: middle;\n",
       "    }\n",
       "\n",
       "    .dataframe tbody tr th {\n",
       "        vertical-align: top;\n",
       "    }\n",
       "\n",
       "    .dataframe thead th {\n",
       "        text-align: right;\n",
       "    }\n",
       "</style>\n",
       "<table border=\"1\" class=\"dataframe\">\n",
       "  <thead>\n",
       "    <tr style=\"text-align: right;\">\n",
       "      <th></th>\n",
       "      <th>product_id</th>\n",
       "      <th>user_id</th>\n",
       "      <th>user</th>\n",
       "      <th>rating</th>\n",
       "    </tr>\n",
       "  </thead>\n",
       "  <tbody>\n",
       "    <tr>\n",
       "      <th>0</th>\n",
       "      <td>190</td>\n",
       "      <td>1</td>\n",
       "      <td>karmakyun2nd</td>\n",
       "      <td>5</td>\n",
       "    </tr>\n",
       "    <tr>\n",
       "      <th>1</th>\n",
       "      <td>190</td>\n",
       "      <td>2</td>\n",
       "      <td>tranquangvinh_vv</td>\n",
       "      <td>5</td>\n",
       "    </tr>\n",
       "    <tr>\n",
       "      <th>2</th>\n",
       "      <td>190</td>\n",
       "      <td>3</td>\n",
       "      <td>nguyenquoctoan2005</td>\n",
       "      <td>5</td>\n",
       "    </tr>\n",
       "    <tr>\n",
       "      <th>3</th>\n",
       "      <td>190</td>\n",
       "      <td>4</td>\n",
       "      <td>nguyenthuyhavi</td>\n",
       "      <td>5</td>\n",
       "    </tr>\n",
       "    <tr>\n",
       "      <th>4</th>\n",
       "      <td>190</td>\n",
       "      <td>5</td>\n",
       "      <td>luonganh5595</td>\n",
       "      <td>5</td>\n",
       "    </tr>\n",
       "  </tbody>\n",
       "</table>\n",
       "</div>"
      ],
      "text/plain": [
       "   product_id  user_id                user  rating\n",
       "0         190        1        karmakyun2nd       5\n",
       "1         190        2    tranquangvinh_vv       5\n",
       "2         190        3  nguyenquoctoan2005       5\n",
       "3         190        4      nguyenthuyhavi       5\n",
       "4         190        5        luonganh5595       5"
      ]
     },
     "execution_count": 4,
     "metadata": {},
     "output_type": "execute_result"
    }
   ],
   "source": [
    "df.head()"
   ]
  },
  {
   "cell_type": "code",
   "execution_count": 5,
   "id": "7ce18c52-fe21-4e4f-853d-b972371ae3fa",
   "metadata": {},
   "outputs": [
    {
     "name": "stdout",
     "output_type": "stream",
     "text": [
      "<class 'pandas.core.frame.DataFrame'>\n",
      "RangeIndex: 1024482 entries, 0 to 1024481\n",
      "Data columns (total 4 columns):\n",
      " #   Column      Non-Null Count    Dtype \n",
      "---  ------      --------------    ----- \n",
      " 0   product_id  1024482 non-null  int64 \n",
      " 1   user_id     1024482 non-null  int64 \n",
      " 2   user        1024482 non-null  object\n",
      " 3   rating      1024482 non-null  int64 \n",
      "dtypes: int64(3), object(1)\n",
      "memory usage: 31.3+ MB\n"
     ]
    }
   ],
   "source": [
    "df.info()"
   ]
  },
  {
   "cell_type": "code",
   "execution_count": 11,
   "id": "69a8064e-4316-4962-9778-4865a487dadf",
   "metadata": {},
   "outputs": [],
   "source": [
    "# => Không có dữ liệu bị thiếu"
   ]
  },
  {
   "cell_type": "code",
   "execution_count": 16,
   "id": "ca0554bd-d9a1-49ad-98f3-532f8b025a79",
   "metadata": {},
   "outputs": [],
   "source": [
    "# Định nghĩa Reader với thang điểm rating từ 1 đến 5\n",
    "reader = Reader(rating_scale=(1, 5))\n",
    "\n",
    "# Tạo dataset từ dataframe với các cột user_id, product_id, rating\n",
    "data = Dataset.load_from_df(df[['user_id', 'product_id', 'rating']], reader)"
   ]
  },
  {
   "cell_type": "markdown",
   "id": "acdae0e0-fc06-4e5b-80f9-252dd41f9aa2",
   "metadata": {},
   "source": [
    "## Xây dựng model Surprise, duyệt qua các thuật toán bằng grid search"
   ]
  },
  {
   "cell_type": "code",
   "execution_count": 20,
   "id": "2b6e8fd3-7f09-41ca-adab-3ec8044e03a1",
   "metadata": {},
   "outputs": [
    {
     "name": "stdout",
     "output_type": "stream",
     "text": [
      "Đang tuning SVD...\n",
      "Đang tuning NMF...\n",
      "Mô hình tối ưu: SVD với RMSE = 0.8724262306157823\n",
      "Thông số tối ưu: {'n_factors': 50, 'n_epochs': 30, 'lr_all': 0.01, 'reg_all': 0.1}\n"
     ]
    }
   ],
   "source": [
    "from surprise.model_selection import GridSearchCV\n",
    "from surprise import Dataset, Reader, SVD, NMF\n",
    "\n",
    "# Định nghĩa tham số cho các thuật toán\n",
    "param_grid = {\n",
    "    'SVD': {\n",
    "        'n_factors': [50, 100, 150],  \n",
    "        'n_epochs': [20, 30],         \n",
    "        'lr_all': [0.005, 0.01],      \n",
    "        'reg_all': [0.02, 0.1]        \n",
    "    },\n",
    "    \n",
    "    'NMF': {\n",
    "        'n_factors': [15, 30],        \n",
    "        'n_epochs': [50, 100],        \n",
    "        'reg_pu': [0.06, 0.1],        \n",
    "        'reg_qi': [0.06, 0.1]         \n",
    "    }\n",
    "}\n",
    "\n",
    "algos = ['SVD', 'NMF']\n",
    "\n",
    "# Khởi tạo biến để lưu mô hình tốt nhất\n",
    "best_model = None\n",
    "best_rmse = float('inf')\n",
    "best_params = None\n",
    "best_algo = None\n",
    "\n",
    "# Thực hiện grid search cho từng thuật toán\n",
    "for algo_name in algos:\n",
    "    print(f'Đang tuning {algo_name}...')\n",
    "    gs = GridSearchCV(eval(algo_name), param_grid[algo_name], measures=['rmse'], cv=3)\n",
    "    gs.fit(data)\n",
    "    \n",
    "    # Cập nhật nếu tìm thấy RMSE tốt hơn\n",
    "    if gs.best_score['rmse'] < best_rmse:\n",
    "        best_rmse = gs.best_score['rmse']\n",
    "        best_params = gs.best_params['rmse']\n",
    "        best_algo = algo_name\n",
    "        best_model = gs.best_estimator['rmse']\n",
    "\n",
    "print(f'Mô hình tối ưu: {best_algo} với RMSE = {best_rmse}')\n",
    "print(f'Thông số tối ưu: {best_params}')"
   ]
  },
  {
   "cell_type": "code",
   "execution_count": 21,
   "id": "d0a285a6-1a56-48ea-a8fd-070a0d313b80",
   "metadata": {},
   "outputs": [
    {
     "data": {
      "text/plain": [
       "<surprise.prediction_algorithms.matrix_factorization.SVD at 0x21b2d709720>"
      ]
     },
     "execution_count": 21,
     "metadata": {},
     "output_type": "execute_result"
    }
   ],
   "source": [
    "# Chia tập dữ liệu thành tập huấn luyện và tập kiểm tra (80% train, 20% test)\n",
    "trainset, testset = train_test_split(data, test_size=0.2)\n",
    "\n",
    "# Khởi tạo mô hình SVD với thông số tối ưu\n",
    "model = SVD(n_factors=50, n_epochs=30, lr_all=0.01, reg_all=0.1)\n",
    "\n",
    "# Huấn luyện mô hình trên tập huấn luyện\n",
    "model.fit(trainset)"
   ]
  },
  {
   "cell_type": "markdown",
   "id": "4b7dfb41-3531-4f4f-a27c-5756d648a814",
   "metadata": {},
   "source": [
    "## Đánh giá model SVD"
   ]
  },
  {
   "cell_type": "code",
   "execution_count": 22,
   "id": "76478103-bc67-4dfa-91c9-4d33a6d1a84a",
   "metadata": {},
   "outputs": [
    {
     "name": "stdout",
     "output_type": "stream",
     "text": [
      "RMSE: 0.8700\n",
      "RMSE: 0.8699972229718983\n"
     ]
    }
   ],
   "source": [
    "# Dự đoán trên tập kiểm tra\n",
    "predictions = model.test(testset)\n",
    "\n",
    "# Tính toán RMSE\n",
    "rmse = accuracy.rmse(predictions)\n",
    "print(f'RMSE: {rmse}')"
   ]
  },
  {
   "cell_type": "markdown",
   "id": "5dd2bc7f-3dd7-4d33-ac34-fed184e50a1d",
   "metadata": {},
   "source": [
    "## Sử dụng model SVD, gợi ý cho nhóm ID (ví dụ 199, 5, 1)"
   ]
  },
  {
   "cell_type": "code",
   "execution_count": 24,
   "id": "0ce1eb72-0dee-41b3-87e2-d6585933e4f0",
   "metadata": {},
   "outputs": [
    {
     "name": "stdout",
     "output_type": "stream",
     "text": [
      "Top 10 gợi ý cho user 199:\n",
      "  1. Áo ba lỗ nam Freeman, chất liệu cotton cao cấp thoải mái ASF202\n",
      "  2. Tất Nam Zara Trơn Cổ Ngắn Vớ Nam Thời Trang Cao Cấp Chất Cotton 100% Co Giãn Thấm Hút Tốt Hàng Nhập Khẩu Chính Hãng\n",
      "  3. Quần jean nam co dãn ( đen, xanh đen, xám, xanh jean)\n",
      "  4. Áo khoác gió cách nhiệt GOKING mũ dấu cho nam nữ, 3 túi đa năng. Áo khoác dù hàng hiệu Việt Nam xuất khẩu cao cấp\n",
      "  5. Bộ Đồ Nam Nữ 100% Cotton Mát Mẻ Co Giãn 4 Chiều GUF\n",
      "  6. [Loại 1 ] Set 5 Đôi Tất nam Uni/ Vớ nam Uni cổ ngắn xuất Nhật TATNAM.N01\n",
      "  7. Áo hoodie nam nữ nỉ ngoại in hình Khủng Long, chất nỉ dày dặn, nón 2 lớp, hợp làm áo cặp William - DS103\n",
      "  8. Vớ cotton cổ thấp thời trang cho đơn giản cho nam\n",
      "  9. Áo ba lỗ nam nữ Toroto\n",
      "  10. Áo choàng cắt tóc\n",
      "Top 10 gợi ý cho user 5:\n",
      "  1. Áo Ba Lỗ Nam Cao Cấp Aristino Thun 3 Lỗ Lót Trong Sơ Mi Màu Trắng Trơn Đơn Giản Dáng Classic Chất Cotton Mềm Mịn AC21\n",
      "  2. [HCM] ÁO 3 LỖ NAM , Thun body from ôm dáng chuẩn GYM SIZE 40kg đến 95kg giá sale 3L02\n",
      "  3. Áo tanktop nam ONOFF chất liệu cotton USA thấm hút , thoáng khí - A37TT2142021\n",
      "  4. Áo Ba Lỗ Sát Nách Nam Tập Gym Thể Thao Cao Cấp Thoáng Mát Vải Dệt Kim 3 Lỗ Thể Thao Co Giãn Cao Cấp - Big Sport, BS02\n",
      "  5. [bigsize <130kg] áo thun ba lỗ nam big size đủ màu vải thun lạnh\n",
      "  6. Áo GAP ba lỗ ,mặc thoáng mát ,thấm hút mồ hôi ,không nhăn không nhầu ,hàng full size\n",
      "  7. Áo ba lỗ, áo nam sát nách, áo thể thao tập gym BAOKHOA_OFFICIAL Shop size L, XL, 2XL\n",
      "  8. Áo tank top nam 360 BOUTIQUE ba lỗ thời trang - ABLOL304\n",
      "  9. Áo Ba Lỗ Nam TSIMPLE sát nách tập gym vải thun lạnh thể thao thoáng mát co giãn thấm hút mồ hôi ALHP2\n",
      "  10. Áo ba lỗ nam thun lạnh co giãn 4 chiều\n",
      "Top 10 gợi ý cho user 1:\n",
      "  1. Áo Ba Lỗ Nam Cao Cấp Aristino Thun 3 Lỗ Lót Trong Sơ Mi Màu Trắng Trơn Đơn Giản Dáng Classic Chất Cotton Mềm Mịn AC21\n",
      "  2. [HCM] ÁO 3 LỖ NAM , Thun body from ôm dáng chuẩn GYM SIZE 40kg đến 95kg giá sale 3L02\n",
      "  3. Áo thể thao ba lỗ nam Devops form rộng dạng lưới mặc tập gym work out Tank top\n",
      "  4. [bigsize <130kg] áo thun ba lỗ nam big size đủ màu vải thun lạnh\n",
      "  5. Áo GAP ba lỗ ,mặc thoáng mát ,thấm hút mồ hôi ,không nhăn không nhầu ,hàng full size\n",
      "  6. Áo tank top nam 360 BOUTIQUE ba lỗ thời trang - ABLOL304\n",
      "  7. Áo Ba Lỗ Nam TSIMPLE sát nách tập gym vải thun lạnh thể thao thoáng mát co giãn thấm hút mồ hôi ALHP2\n",
      "  8. Áo ba lỗ nam thun lạnh co giãn 4 chiều\n",
      "  9. Áo Lót Ba Lỗ Nam ARISTINO 100% Cotton, AC21, tag 85k\n",
      "  10. Áo Ba Lỗ Nam 100% Vải Poly Mềm Mỏng Siêu Thoáng Mát Thấm Hút Mồ Hôi Tốt Co Giãn 4 Chiều - Big Sport, BS15\n"
     ]
    }
   ],
   "source": [
    "products_df = pd.read_csv('Products_ThoiTrangNam_raw.csv')\n",
    "product_id_to_name = dict(zip(products_df['product_id'], products_df['product_name']))\n",
    "\n",
    "def get_top_n_recommendations(model, user_id, n=10):\n",
    "    # Lấy danh sách tất cả product_id duy nhất từ df (giả sử df là dữ liệu đánh giá)\n",
    "    all_product_ids = df['product_id'].unique()\n",
    "    \n",
    "    # Lấy danh sách product_id mà user đã đánh giá\n",
    "    rated_product_ids = df[df['user_id'] == user_id]['product_id'].unique()\n",
    "    \n",
    "    # Dự đoán rating cho các sản phẩm chưa được đánh giá\n",
    "    predictions = [model.predict(user_id, product_id) for product_id in all_product_ids \n",
    "                   if product_id not in rated_product_ids]\n",
    "    \n",
    "    # Sắp xếp dự đoán theo giá trị rating dự đoán (estimated rating) giảm dần\n",
    "    predictions.sort(key=lambda x: x.est, reverse=True)\n",
    "    \n",
    "    # Lấy top N product_id\n",
    "    top_n_product_ids = [pred.iid for pred in predictions[:n]]\n",
    "    \n",
    "    # Chuyển đổi product_id sang product_name\n",
    "    top_n_product_names = [product_id_to_name.get(pid, \"Unknown Product\") for pid in top_n_product_ids]\n",
    "    \n",
    "    return top_n_product_names\n",
    "\n",
    "# Danh sách user_id cần gợi ý\n",
    "user_ids = [199, 5, 1]\n",
    "\n",
    "# Số lượng gợi ý cho mỗi user\n",
    "n_recommendations = 10\n",
    "\n",
    "# Đưa ra gợi ý cho từng user_id\n",
    "for user_id in user_ids:\n",
    "    recommendations = get_top_n_recommendations(model, user_id, n_recommendations)\n",
    "    print(f'Top {n_recommendations} gợi ý cho user {user_id}:')\n",
    "    for i, product_name in enumerate(recommendations, 1):\n",
    "        print(f'  {i}. {product_name}')"
   ]
  },
  {
   "cell_type": "markdown",
   "id": "cb0e98dd-5597-47ce-abfc-ad21355f74d2",
   "metadata": {},
   "source": [
    "## Trực quan hóa bằng biểu đồ tần suất từ"
   ]
  },
  {
   "cell_type": "code",
   "execution_count": 25,
   "id": "72938140-f518-4156-933e-20a9fe8f5491",
   "metadata": {},
   "outputs": [],
   "source": [
    "import matplotlib.pyplot as plt\n",
    "from collections import Counter\n",
    "import re\n",
    "\n",
    "def get_word_frequency(product_names):\n",
    "    all_words = []\n",
    "    for name in product_names:\n",
    "        # Tách từ dựa trên khoảng trắng và ký tự đặc biệt\n",
    "        words = re.findall(r'\\b\\w+\\b', name.lower())\n",
    "        all_words.extend(words)\n",
    "    \n",
    "    # Đếm tần suất các từ\n",
    "    word_counts = Counter(all_words)\n",
    "    return word_counts\n",
    "\n",
    "# Hàm vẽ biểu đồ tần suất từ\n",
    "def plot_word_frequency(word_counts, user_id, top_n=10):\n",
    "    # Lấy top N từ phổ biến nhất\n",
    "    common_words = word_counts.most_common(top_n)\n",
    "    words, frequencies = zip(*common_words)\n",
    "    \n",
    "    # Vẽ biểu đồ cột\n",
    "    plt.figure(figsize=(10, 6))\n",
    "    plt.bar(words, frequencies, color='skyblue')\n",
    "    plt.xlabel('Từ')\n",
    "    plt.ylabel('Tần suất')\n",
    "    plt.title(f'Top {top_n} từ phổ biến trong gợi ý cho user {user_id}')\n",
    "    plt.xticks(rotation=45, ha='right')\n",
    "    plt.tight_layout()\n",
    "    plt.show()"
   ]
  },
  {
   "cell_type": "code",
   "execution_count": 29,
   "id": "55a34af2-dd38-4dd3-8808-b4ec3d033fec",
   "metadata": {},
   "outputs": [
    {
     "name": "stdout",
     "output_type": "stream",
     "text": [
      "Top 10 gợi ý cho user 199:\n",
      "  1. Áo ba lỗ nam Freeman, chất liệu cotton cao cấp thoải mái ASF202\n",
      "  2. Tất Nam Zara Trơn Cổ Ngắn Vớ Nam Thời Trang Cao Cấp Chất Cotton 100% Co Giãn Thấm Hút Tốt Hàng Nhập Khẩu Chính Hãng\n",
      "  3. Quần jean nam co dãn ( đen, xanh đen, xám, xanh jean)\n",
      "  4. Áo khoác gió cách nhiệt GOKING mũ dấu cho nam nữ, 3 túi đa năng. Áo khoác dù hàng hiệu Việt Nam xuất khẩu cao cấp\n",
      "  5. Bộ Đồ Nam Nữ 100% Cotton Mát Mẻ Co Giãn 4 Chiều GUF\n",
      "  6. [Loại 1 ] Set 5 Đôi Tất nam Uni/ Vớ nam Uni cổ ngắn xuất Nhật TATNAM.N01\n",
      "  7. Áo hoodie nam nữ nỉ ngoại in hình Khủng Long, chất nỉ dày dặn, nón 2 lớp, hợp làm áo cặp William - DS103\n",
      "  8. Vớ cotton cổ thấp thời trang cho đơn giản cho nam\n",
      "  9. Áo ba lỗ nam nữ Toroto\n",
      "  10. Áo choàng cắt tóc\n"
     ]
    },
    {
     "data": {
      "image/png": "[encoded data removed]",
      "text/plain": [
       "<Figure size 1000x600 with 1 Axes>"
      ]
     },
     "metadata": {},
     "output_type": "display_data"
    },
    {
     "name": "stdout",
     "output_type": "stream",
     "text": [
      "Top 10 gợi ý cho user 5:\n",
      "  1. Áo Ba Lỗ Nam Cao Cấp Aristino Thun 3 Lỗ Lót Trong Sơ Mi Màu Trắng Trơn Đơn Giản Dáng Classic Chất Cotton Mềm Mịn AC21\n",
      "  2. [HCM] ÁO 3 LỖ NAM , Thun body from ôm dáng chuẩn GYM SIZE 40kg đến 95kg giá sale 3L02\n",
      "  3. Áo tanktop nam ONOFF chất liệu cotton USA thấm hút , thoáng khí - A37TT2142021\n",
      "  4. Áo Ba Lỗ Sát Nách Nam Tập Gym Thể Thao Cao Cấp Thoáng Mát Vải Dệt Kim 3 Lỗ Thể Thao Co Giãn Cao Cấp - Big Sport, BS02\n",
      "  5. [bigsize <130kg] áo thun ba lỗ nam big size đủ màu vải thun lạnh\n",
      "  6. Áo GAP ba lỗ ,mặc thoáng mát ,thấm hút mồ hôi ,không nhăn không nhầu ,hàng full size\n",
      "  7. Áo ba lỗ, áo nam sát nách, áo thể thao tập gym BAOKHOA_OFFICIAL Shop size L, XL, 2XL\n",
      "  8. Áo tank top nam 360 BOUTIQUE ba lỗ thời trang - ABLOL304\n",
      "  9. Áo Ba Lỗ Nam TSIMPLE sát nách tập gym vải thun lạnh thể thao thoáng mát co giãn thấm hút mồ hôi ALHP2\n",
      "  10. Áo ba lỗ nam thun lạnh co giãn 4 chiều\n"
     ]
    },
    {
     "data": {
      "image/png": "[encoded data removed]",
      "text/plain": [
       "<Figure size 1000x600 with 1 Axes>"
      ]
     },
     "metadata": {},
     "output_type": "display_data"
    },
    {
     "name": "stdout",
     "output_type": "stream",
     "text": [
      "Top 10 gợi ý cho user 1:\n",
      "  1. Áo Ba Lỗ Nam Cao Cấp Aristino Thun 3 Lỗ Lót Trong Sơ Mi Màu Trắng Trơn Đơn Giản Dáng Classic Chất Cotton Mềm Mịn AC21\n",
      "  2. [HCM] ÁO 3 LỖ NAM , Thun body from ôm dáng chuẩn GYM SIZE 40kg đến 95kg giá sale 3L02\n",
      "  3. Áo thể thao ba lỗ nam Devops form rộng dạng lưới mặc tập gym work out Tank top\n",
      "  4. [bigsize <130kg] áo thun ba lỗ nam big size đủ màu vải thun lạnh\n",
      "  5. Áo GAP ba lỗ ,mặc thoáng mát ,thấm hút mồ hôi ,không nhăn không nhầu ,hàng full size\n",
      "  6. Áo tank top nam 360 BOUTIQUE ba lỗ thời trang - ABLOL304\n",
      "  7. Áo Ba Lỗ Nam TSIMPLE sát nách tập gym vải thun lạnh thể thao thoáng mát co giãn thấm hút mồ hôi ALHP2\n",
      "  8. Áo ba lỗ nam thun lạnh co giãn 4 chiều\n",
      "  9. Áo Lót Ba Lỗ Nam ARISTINO 100% Cotton, AC21, tag 85k\n",
      "  10. Áo Ba Lỗ Nam 100% Vải Poly Mềm Mỏng Siêu Thoáng Mát Thấm Hút Mồ Hôi Tốt Co Giãn 4 Chiều - Big Sport, BS15\n"
     ]
    },
    {
     "data": {
      "image/png": "[encoded data removed]",
      "text/plain": [
       "<Figure size 1000x600 with 1 Axes>"
      ]
     },
     "metadata": {},
     "output_type": "display_data"
    }
   ],
   "source": [
    "for user_id in user_ids:\n",
    "    recommendations = get_top_n_recommendations(model, user_id, n_recommendations)\n",
    "    print(f'Top {n_recommendations} gợi ý cho user {user_id}:')\n",
    "    for i, product_name in enumerate(recommendations, 1):\n",
    "        print(f'  {i}. {product_name}')\n",
    "    # Tính tần suất từ trong các gợi ý\n",
    "    word_counts = get_word_frequency(recommendations)\n",
    "    # Vẽ biểu đồ tần suất từ\n",
    "    plot_word_frequency(word_counts, user_id)"
   ]
  },
  {
   "cell_type": "code",
   "execution_count": null,
   "id": "8395b45a-3d1f-45b1-8645-03017fdc35c7",
   "metadata": {},
   "outputs": [],
   "source": []
  }
 ],
 "metadata": {
  "kernelspec": {
   "display_name": "Python 3 (ipykernel)",
   "language": "python",
   "name": "python3"
  },
  "language_info": {
   "codemirror_mode": {
    "name": "ipython",
    "version": 3
   },
   "file_extension": ".py",
   "mimetype": "text/x-python",
   "name": "python",
   "nbconvert_exporter": "python",
   "pygments_lexer": "ipython3",
   "version": "3.10.1"
  }
 },
 "nbformat": 4,
 "nbformat_minor": 5
}
